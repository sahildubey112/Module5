{
  "nbformat": 4,
  "nbformat_minor": 0,
  "metadata": {
    "colab": {
      "provenance": []
    },
    "kernelspec": {
      "name": "python3",
      "display_name": "Python 3"
    },
    "language_info": {
      "name": "python"
    }
  },
  "cells": [
    {
      "cell_type": "markdown",
      "source": [
        "#1. Build a simple webpage that displays text as shown in the below image.\n",
        "\n"
      ],
      "metadata": {
        "id": "-4ap8Dahc8TH"
      }
    },
    {
      "cell_type": "code",
      "source": [
        "from IPython.display import HTML\n",
        "\n",
        "html_code = \"\"\"\n",
        "\n",
        "\n",
        "<html>\n",
        "<head>\n",
        "<title>Module4</title>\n",
        "</head>\n",
        "<body>\n",
        "\n",
        "<b>This text will be bolded</b>\n",
        "<br>\n",
        "<i>This text will be italic</i>\n",
        "<br>\n",
        "<ins>This text will be underline</ins>\n",
        "<br>\n",
        "<mark>This text will be marked</mark>\n",
        "<br>\n",
        "This is normal text<sup>This is super scripted</sup> this is normal\n",
        "again <br>\n",
        "This is a normal text<sub>This text will be sub scripted</sub>\n",
        "Normal text <small>small text</small>\n",
        "<br>\n",
        "<del>This text will be deleted</del>\n",
        "\n",
        "</body>\n",
        "\n",
        "\n",
        "</html>\n",
        "\n",
        "\"\"\""
      ],
      "metadata": {
        "id": "YrkXwe28dLEb"
      },
      "execution_count": null,
      "outputs": []
    },
    {
      "cell_type": "markdown",
      "source": [
        "#Q2. Build a simple webpage that helps users navigate different web development-related websites. Note: Onclicking the hyperlink the web pages should open in a new tab. Below is a reference image.\n",
        "\n",
        "Ans."
      ],
      "metadata": {
        "id": "jXKQFgrHWMZz"
      }
    },
    {
      "cell_type": "code",
      "source": [
        "from IPython.display import HTML\n",
        "\n",
        "html_code = \"\"\"\n",
        "\n",
        "\n",
        "<html>\n",
        "<head>\n",
        "<title>Href</title>\n",
        "</head>\n",
        "<body>\n",
        "Buy <a href=\"https://pwskills.com/\" target=\"_blank\">PW Skills</a>\n",
        "click here to go to <a href=\"https://developer.mozilla.org/en-US/docs/Learn_web_development\" target=\"_blank\">MDN Course</a>\n",
        "click here to go to <a href=\"https://pwlab.org/\" target=\"_blank\">PW Lab</a>\n",
        "</body>\n",
        "</html>\n",
        "\"\"\""
      ],
      "metadata": {
        "id": "gxEy5QS7WWp6"
      },
      "execution_count": null,
      "outputs": []
    },
    {
      "cell_type": "markdown",
      "source": [
        "#3. Build a simple blog web page with 3 pages home, web development, and web design. Each page must contain hyperlinks to other pages in the top, a heading of the page topic and a paragraph of information.For the home page you can add some information about yourself%"
      ],
      "metadata": {
        "id": "_AtmCUW1aGJv"
      }
    },
    {
      "cell_type": "code",
      "source": [
        "from IPython.display import HTML\n",
        "\n",
        "html_code = \"\"\"\n",
        "\n",
        "<html>\n",
        "    <head>\n",
        "        <title>Home Page</title>\n",
        "\n",
        "    </head>\n",
        "    <body>\n",
        "        <h1>Sahil Dubey</h1>\n",
        "        <marquee bgcolor=\"Red\">Welcome to my website</marquee>\n",
        "        <br>\n",
        "        <a href=\"webdevelopment.html\">Web Development</a>\n",
        "        <br>\n",
        "        <a href=\"webdesigning.html\">Web Designing</a>\n",
        "\n",
        "\n",
        "        Hey everyone my name is Sahil Dubey i am a full stack web developer.<br>\n",
        "        Thankyou very much PW Skills for this amazing learning platform i loved it.\n",
        "    </body>\n",
        "</html>\n",
        "\n",
        "\"\"\""
      ],
      "metadata": {
        "id": "SwoBMAIhfwxM"
      },
      "execution_count": null,
      "outputs": []
    },
    {
      "cell_type": "markdown",
      "source": [
        "#4. Create an ordered list of HTML tags. Each list item must include the tag name and some information about the tag."
      ],
      "metadata": {
        "id": "SRbr10omf-xe"
      }
    },
    {
      "cell_type": "code",
      "source": [
        "from IPython.display import HTML\n",
        "\n",
        "html_code = \"\"\"\n",
        "\n",
        "<html>\n",
        "    <head>\n",
        "        <title>Order list</title>\n",
        "    </head>\n",
        "    <body>\n",
        "        <ol>\n",
        "            <li>Title:<dl>\n",
        "                <dd>Title Tag is use to give the web page name it is wriiten in the head section.</dd>\n",
        "            </dl></li>\n",
        "            <li>Body:\n",
        "                <dl>\n",
        "                    <dd>All the data are written in body to run to run html program.</dd>\n",
        "                </dl>\n",
        "            </li>\n",
        "            <li>Html: <dl>\n",
        "                <dd>\n",
        "                    Html tag is tells to compiler that code written in HTML. Without HTML tag code will not run.\n",
        "                </dd> </dl>\n",
        "            </dl></li>\n",
        "            <li>B<dl>\n",
        "                <dd>B tag is use to bold the element.</dd>\n",
        "            </dl></li>\n",
        "            <li>Mark<dl>\n",
        "                <dd>Mark tag is use to Highlight something.</dd>\n",
        "            </dl></li>\n",
        "            <li>Link<dl>\n",
        "                <dd>\n",
        "                    Link Tag is use to link the external css to a web page.\n",
        "                </dd>\n",
        "            </dl></li>\n",
        "        </ol>\n",
        "    </body>\n",
        "</html>\n",
        "\n",
        "\"\"\""
      ],
      "metadata": {
        "id": "waWMx9bTgQET"
      },
      "execution_count": null,
      "outputs": []
    },
    {
      "cell_type": "markdown",
      "source": [
        "#5. Create a description list of full stack web development tech stack, using the <dl> tag. Each term should be a tech stack name and each description should be a brief explanation of what the tech stack is used for?"
      ],
      "metadata": {
        "id": "GNjYYuXAjfgM"
      }
    },
    {
      "cell_type": "code",
      "source": [
        "from IPython.display import HTML\n",
        "\n",
        "html_code = \"\"\"\n",
        "\n",
        "<html>\n",
        "    <head>\n",
        "        <title>Definition List</title>\n",
        "    </head>\n",
        "    <body>\n",
        "        <dl>Frontend<dd>\n",
        "            Front-end is what users interact with directly. It includes:\n",
        "\n",
        "HTML (HyperText Markup Language): Defines the structure of web pages.\n",
        "CSS (Cascading Style Sheets): Styles web pages for a better visual experience.\n",
        "JavaScript: Adds interactivity and dynamic behavior to web pages.\n",
        "        </dd></dl>\n",
        "\n",
        "        <dl>Backend<dd>\n",
        "            The backend is responsible for logic, database interactions, and authentication.\n",
        "\n",
        "Programming Languages:<br>\n",
        "Node.js (JavaScript):A runtime for executing JavaScript on the server.<br>\n",
        "Python (Django/Flask): A versatile backend language with robust frameworks.<br>\n",
        "Ruby on Rails: A framework for rapid application development.<br>\n",
        "PHP (Laravel): A popular backend language for web applications.<br>\n",
        "Java (Spring Boot): A powerful framework for enterprise applications.<br>\n",
        "C# (.NET Core): A Microsoft framework for building scalable applications.<br>\n",
        "     </dd></dl>\n",
        "\n",
        "\n",
        "\n",
        "\n",
        "     <dl>Database Management<dd>\n",
        "        Database management requires a mix of technical, analytical, and problem-solving skills. Here are the key skills you need: SQL, NoSQL,\n",
        "    </dd></dl>\n",
        "\n",
        "\n",
        "    </body>\n",
        "</html>\n",
        "\n",
        "\"\"\""
      ],
      "metadata": {
        "id": "vcJntUSjjoxq"
      },
      "execution_count": null,
      "outputs": []
    },
    {
      "cell_type": "markdown",
      "source": [
        "#6. Create an ordered list of the full stack web development tech stack HTML, CSS, and JS. For each tech stack, create a table that lists the tech stack name, its primary use cases, and some key features or benefits. Below is a reference image"
      ],
      "metadata": {
        "id": "2tgyW_k1-4Je"
      }
    },
    {
      "cell_type": "code",
      "source": [
        "from IPython.display import HTML\n",
        "\n",
        "html_code = \"\"\"\n",
        "\n",
        "<html>\n",
        "    <head>\n",
        "        <title>Dl Table</title>\n",
        "    </head>\n",
        "    <body>\n",
        "        <table border=\"1px\">\n",
        "            <ol>\n",
        "                <li style=\"height: 50; width: auto; font-size:larger;\">\n",
        "                    <h1>Full Stack Web Developer</h1>\n",
        "                <tr>\n",
        "                    <td>Tech Stake</td>\n",
        "                    <td>Primary Use Cases</td>\n",
        "                </tr>\n",
        "                <tr>\n",
        "                <td>HTML</td>\n",
        "                <td>Creating web page structure</td>                                          <td></td>\n",
        "                </tr>\n",
        "                <tr>\n",
        "                    <td>CSS</td>\n",
        "                    <td>Styling Web Pages</td>                                          <td></td>\n",
        "                    </tr>\n",
        "                    <tr>\n",
        "                        <td>Javascript</td>\n",
        "                        <td>Handling Events</td>                                          <td></td>\n",
        "                        </tr>\n",
        "\n",
        "                </li>\n",
        "\n",
        "            </ol>\n",
        "        </table>\n",
        "\n",
        "        <table border=\"1px\">\n",
        "            <ol type=\"1\" start=\"2\">\n",
        "                <li style=\"height: 50; width: auto; font-size:larger;\">\n",
        "                    <h1>Full Stack</h1>\n",
        "                <tr>\n",
        "                    <td>Tech Stake</td>\n",
        "                    <td>Primary Use Cases</td>\n",
        "                </tr>\n",
        "                <tr>\n",
        "                <td>HTML</td>\n",
        "                <td>Creating web page structure</td>                                          <td></td>\n",
        "                </tr>\n",
        "                <tr>\n",
        "                    <td>CSS</td>\n",
        "                    <td>Styling Web Pages</td>                                          <td></td>\n",
        "                    </tr>\n",
        "                    <tr>\n",
        "                        <td>Javascript</td>\n",
        "                        <td>Handling Events</td>                                          <td></td>\n",
        "                        </tr>\n",
        "\n",
        "                </li>\n",
        "\n",
        "            </ol>\n",
        "        <dd>\n",
        "        </dd>\n",
        "    </body>\n",
        "</html>\n",
        "\n",
        "\"\"\""
      ],
      "metadata": {
        "id": "72OmEYEr_AlD"
      },
      "execution_count": null,
      "outputs": []
    },
    {
      "cell_type": "markdown",
      "source": [
        "#7. Build a complex nested list structure representing a multi-level table of contents. Use unordered lists ul and list items <li> with inline-block styling to create a structured layout. Apply formatting tags to enhance the presentation of list items."
      ],
      "metadata": {
        "id": "D9_aLbKO_t05"
      }
    },
    {
      "cell_type": "code",
      "source": [
        "from IPython.display import HTML\n",
        "\n",
        "html_code = \"\"\"\n",
        "\n",
        "\n",
        "<html>\n",
        "    <head>\n",
        "        <title>Table</title>\n",
        "    </head>\n",
        "    <body>\n",
        "        <h1>Table of Contents</h1>\n",
        "        <ul>\n",
        "            <li>Part 1: Introduction</li>\n",
        "            <li>Part 2: Introduction</li>\n",
        "            <ul type=\"circle\">\n",
        "                <li>2.1 Installing the software</li>\n",
        "                <li>2.2 Creating a new project</li>\n",
        "                <ul type=\"desc\">\n",
        "                    <li>2.1.1 Project Template</li>\n",
        "                <li>Customizing setting</li>\n",
        "                </ul>\n",
        "            </ul>\n",
        "            <ul>\n",
        "                <li>2.3 Exploaring the interface</li>\n",
        "                <ul>\n",
        "                    <li>2.3.1 Toolbar features</li>\n",
        "                    <li>2.3.2 Panel layout</li>\n",
        "                    <ul>\n",
        "                        <li> 2.3.2.1 Docking panels</li>\n",
        "                        <li> 2.3.2.2 Tabbed interface</li>\n",
        "                    </ul>\n",
        "                </ul>\n",
        "            </ul>\n",
        "\n",
        "        </ul>\n",
        "        <ul>\n",
        "            <li>Part3: Advance Topics</li>\n",
        "            <ul>\n",
        "                <li>3.1 Working with plugin</li>\n",
        "                <ul>\n",
        "                    <li>3.1.1 Installing Plugin</li>\n",
        "                    <li>3.1.2 Plugin Configuration</li>\n",
        "                </ul>\n",
        "            </ul>\n",
        "            <ul>\n",
        "                <li>3.2 Customizing the UI</li>\n",
        "                <ul>\n",
        "                    <li>3.2.1 Changing themes</li>\n",
        "                    <li>3.2.2 Configuring Shortcuts</li>\n",
        "                </ul>\n",
        "                <li>3.3 Optimizing Performance</li>\n",
        "                <ul>\n",
        "                    <li>3.3.1 Caching Strategies</li>\n",
        "                    <li>3.3.2 Resource Minification</li>\n",
        "                </ul>\n",
        "            </ul>\n",
        "        </ul>\n",
        "        <ul>\n",
        "            <li>Part4: Conclusion</li>\n",
        "        </ul>\n",
        "    </body>\n",
        "</html>\n",
        "\n",
        "\"\"\""
      ],
      "metadata": {
        "id": "7vDZ2nDygydu"
      },
      "execution_count": null,
      "outputs": []
    },
    {
      "cell_type": "markdown",
      "source": [
        "#8. Create a table to display a conference schedule. Each row corresponds to a time slot, and each column corresponds to a room. Some time slots might have multiple sessions running simultaneously in different rooms. Utilize rowspan and colspan attributes as necessary to accommodate this complex schedule.\n",
        "\n",
        "\n"
      ],
      "metadata": {
        "id": "QID2t6yvhO-9"
      }
    },
    {
      "cell_type": "code",
      "source": [
        "from IPython.display import HTML\n",
        "\n",
        "html_code = \"\"\"\n",
        "<html>\n",
        "    <head>\n",
        "        <title>Table</title>\n",
        "    </head>\n",
        "    <body>\n",
        "        <table border=\"1px\" cellpadding=\"20\" cellspacing=\"10\">\n",
        "            <tr>\n",
        "            <h1>Conference Schedule</h1>\n",
        "            <th>Time</th>\n",
        "            <th>Room 1</th>\n",
        "            <th>Room 2</th>\n",
        "            <th>Room 3</th>\n",
        "            <th>Room 4</th>\n",
        "            </tr>\n",
        "            <tr>\n",
        "                <td rowspan=\"3\"> 9-00AM - 10AM</td>\n",
        "                <td rowspan=\"2\">Keynote</td>\n",
        "                <td>Session A</td>\n",
        "                <td>Session B</td>\n",
        "                <td rowspan=\"3\">Session C</td>\n",
        "\n",
        "            </tr>\n",
        "            <tr>\n",
        "                <td>\n",
        "                    Session D\n",
        "                </td>\n",
        "                <td>Session E</td>\n",
        "            </tr>\n",
        "            <tr>\n",
        "                <td>10-30AM - 11:30AM</td>\n",
        "                <td colspan=\"2\">Session F</td>\n",
        "\n",
        "            </tr>\n",
        "            <tr>\n",
        "                <td>12:00PM-1:00PM</td>\n",
        "                <td colspan=\"4\">Lunch Break</td>\n",
        "            </tr>\n",
        "            <tr>\n",
        "                <td rowspan=\"2\">1:00PM - 2:00PM</td>\n",
        "                <td>Session G</td>\n",
        "                <td rowspan=\"2\">Session H</td>\n",
        "                <td>Session I</td>\n",
        "                <td>Session J</td>\n",
        "\n",
        "            </tr>\n",
        "            <tr>\n",
        "                <td>Session K</td>\n",
        "                <td>Session L</td>\n",
        "                <td>Session M</td>\n",
        "            </tr>\n",
        "\n",
        "\n",
        "        </table>\n",
        "    </body>\n",
        "</html>\n",
        "\"\"\""
      ],
      "metadata": {
        "id": "MhGQBH9JhXL4"
      },
      "execution_count": null,
      "outputs": []
    }
  ]
}